{
  "nbformat": 4,
  "nbformat_minor": 0,
  "metadata": {
    "colab": {
      "provenance": [],
      "authorship_tag": "ABX9TyNeKeJdxC7qXmymkT2oKjFQ",
      "include_colab_link": true
    },
    "kernelspec": {
      "name": "python3",
      "display_name": "Python 3"
    },
    "language_info": {
      "name": "python"
    }
  },
  "cells": [
    {
      "cell_type": "markdown",
      "metadata": {
        "id": "view-in-github",
        "colab_type": "text"
      },
      "source": [
        "<a href=\"https://colab.research.google.com/github/EdwardianCat/EdwardianCat/blob/main/horoscope.ipynb\" target=\"_parent\"><img src=\"https://colab.research.google.com/assets/colab-badge.svg\" alt=\"Open In Colab\"/></a>"
      ]
    },
    {
      "cell_type": "code",
      "execution_count": 1,
      "metadata": {
        "colab": {
          "base_uri": "https://localhost:8080/"
        },
        "id": "zdZaAxdqd4xA",
        "outputId": "beb8170f-375b-4cdd-d33f-474e840a8d59"
      },
      "outputs": [
        {
          "output_type": "stream",
          "name": "stdout",
          "text": [
            "Requirement already satisfied: requests in /usr/local/lib/python3.10/dist-packages (2.31.0)\n",
            "Requirement already satisfied: charset-normalizer<4,>=2 in /usr/local/lib/python3.10/dist-packages (from requests) (3.3.2)\n",
            "Requirement already satisfied: idna<4,>=2.5 in /usr/local/lib/python3.10/dist-packages (from requests) (3.6)\n",
            "Requirement already satisfied: urllib3<3,>=1.21.1 in /usr/local/lib/python3.10/dist-packages (from requests) (2.0.7)\n",
            "Requirement already satisfied: certifi>=2017.4.17 in /usr/local/lib/python3.10/dist-packages (from requests) (2024.2.2)\n"
          ]
        }
      ],
      "source": [
        "!python -m pip install requests"
      ]
    },
    {
      "cell_type": "code",
      "source": [
        "print(\"Enter the date you want your horoscope for in a YYYY-MM-DD format. I will make sure you will have one nostril perpetually clogged for the rest of your life if you don't.\")\n",
        "date = input()"
      ],
      "metadata": {
        "colab": {
          "base_uri": "https://localhost:8080/"
        },
        "id": "-pQuv1O4iiUA",
        "outputId": "ae76fc55-c7a8-46ab-8715-691d90cc0eff"
      },
      "execution_count": 11,
      "outputs": [
        {
          "name": "stdout",
          "output_type": "stream",
          "text": [
            "Enter the date you want your horoscope for in a YYYY-MM-DD format. I will make sure you will have one nostril perpetually clogged for the rest of your life if you don't.\n",
            "2020-05-11\n"
          ]
        }
      ]
    },
    {
      "cell_type": "code",
      "source": [
        "print(\"Enter your star sign\")\n",
        "star_sign = input()"
      ],
      "metadata": {
        "colab": {
          "base_uri": "https://localhost:8080/"
        },
        "outputId": "f5f15857-1086-44ec-da1e-911bf2a82fe1",
        "id": "OORB76CsjY0t"
      },
      "execution_count": 12,
      "outputs": [
        {
          "name": "stdout",
          "output_type": "stream",
          "text": [
            "Enter your star sign\n",
            "Taurus\n"
          ]
        }
      ]
    },
    {
      "cell_type": "code",
      "source": [
        "import requests\n",
        "import random\n",
        "\n",
        "list_of_cats = [\"animal\",\"career\",\"celebrity\",\"dev\",\"explicit\",\"fashion\",\"food\",\"history\",\"money\",\"movie\",\"music\",\"political\",\"religion\",\"science\",\"sport\",\"travel\"]\n",
        "random_cat = random.choice(list_of_cats)\n",
        "category = random_cat\n",
        "\n",
        "url = f\"https://api.chucknorris.io/jokes/random?category={category}\"\n",
        "\n",
        "response_norris = requests.get(url)\n",
        "\n",
        "\"\"\n",
        "url = \"https://fish-species.p.rapidapi.com/fish_api/fishes\"\n",
        "\n",
        "headers = {\n",
        "\t\"X-RapidAPI-Key\": \"53cb9b696dmsh97a7cca2ca719f1p15f5c0jsn8e2ce6edd6e6\",\n",
        "\t\"X-RapidAPI-Host\": \"fish-species.p.rapidapi.com\"\n",
        "}\n",
        "\n",
        "response = requests.get(url, headers=headers)\n",
        "\n",
        "url = \"https://fish-species.p.rapidapi.com/fish_api/fishes\"\n",
        "\n",
        "\n",
        "response = requests.get(url, headers=headers)\n",
        "\n",
        "if response.status_code ==  200:\n",
        "\n",
        "    data = response.json()\n",
        "\n",
        "    random_name = random.choice(data)\n",
        "\n",
        "    horoscope = f\"Every {star_sign} will have irritable bowels and a blocked left nostril the week of {date}.\"\n",
        "    print(horoscope)\n",
        "    print(response_norris.json()[\"value\"])\n",
        "    print(random_name['img_src_set'])\n",
        "    print(random_name['url'])\n",
        "\n",
        "else:\n",
        "    print(\"The stars can't help you here. Try again later.\")\n",
        "\n",
        "\n"
      ],
      "metadata": {
        "colab": {
          "base_uri": "https://localhost:8080/"
        },
        "id": "2PgbpswFMDgz",
        "outputId": "b63761e3-b48a-487a-a7aa-66bed509418a"
      },
      "execution_count": 26,
      "outputs": [
        {
          "output_type": "stream",
          "name": "stdout",
          "text": [
            "Every Taurus will have irritable bowels and a blocked left nostril the week of 2020-05-11.\n",
            "Chuck Norris has volunteered to remain on earth after the Rapture; he will spend his time fighting the Anti-Christ.\n",
            "{'1.5x': 'https://upload.wikimedia.org/wikipedia/commons/thumb/b/ba/Menidia_menidia_RR_08-11-19_0545_%2848555459552%29.jpg/330px-Menidia_menidia_RR_08-11-19_0545_%2848555459552%29.jpg', '2x': 'https://upload.wikimedia.org/wikipedia/commons/thumb/b/ba/Menidia_menidia_RR_08-11-19_0545_%2848555459552%29.jpg/440px-Menidia_menidia_RR_08-11-19_0545_%2848555459552%29.jpg'}\n",
            "https://en.wikipedia.org/wiki/Atlantic_silverside\n"
          ]
        }
      ]
    }
  ]
}